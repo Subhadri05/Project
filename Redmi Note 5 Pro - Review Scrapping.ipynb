{
 "cells": [
  {
   "cell_type": "code",
   "execution_count": 1,
   "metadata": {},
   "outputs": [],
   "source": [
    "import pandas as pd\n",
    "import numpy as np\n",
    "\n",
    "import os\n",
    "from bs4 import BeautifulSoup\n",
    "from selenium import webdriver"
   ]
  },
  {
   "cell_type": "code",
   "execution_count": 2,
   "metadata": {},
   "outputs": [
    {
     "name": "stderr",
     "output_type": "stream",
     "text": [
      "C:\\Users\\Subhadri\\AppData\\Local\\Continuum\\anaconda3\\lib\\site-packages\\ipykernel_launcher.py:2: FutureWarning: Passing a negative integer is deprecated in version 1.0 and will not be supported in future version. Instead, use None to not limit the column width.\n",
      "  \n"
     ]
    }
   ],
   "source": [
    "## To view the full review\n",
    "pd.set_option('display.max_colwidth', -1)"
   ]
  },
  {
   "cell_type": "code",
   "execution_count": 10,
   "metadata": {},
   "outputs": [],
   "source": [
    "path_tounzipfile = 'C:/Users/Subhadri/Desktop/Data Science/Term 1/Data Scrapping & Data Wranglig/geckodriver-v0.25.0-win64'\n",
    "os.chdir(path_tounzipfile)\n",
    "browser = webdriver.Firefox(path_tounzipfile)"
   ]
  },
  {
   "cell_type": "markdown",
   "metadata": {},
   "source": [
    "## Redmi Note 5 Pro with RAM 4GB"
   ]
  },
  {
   "cell_type": "code",
   "execution_count": 4,
   "metadata": {},
   "outputs": [],
   "source": [
    "def get_data1(url1):\n",
    "    browser.get(url1)\n",
    "    for i in browser.find_elements_by_class_name('_1EPkIx'):\n",
    "        i.click()\n",
    "    html1 = browser.page_source\n",
    "    soup1 = BeautifulSoup(html1, 'html.parser')\n",
    "    div1 = soup1.find_all('div', class_ = '_1PBCrt')\n",
    "    \n",
    "    review_head1 = []\n",
    "    for i in div1:\n",
    "        review_head1.append(i.find('p', class_ = '_2xg6Ul').text.strip())\n",
    "    #review_head1\n",
    "    \n",
    "    full_reviews1 = []\n",
    "    for i in div1:\n",
    "        full_reviews1.append(i.find('div', class_='').text.strip())\n",
    "    #reviews1\n",
    "    \n",
    "    ratings1 = []\n",
    "    for j in div1:\n",
    "        ratings1.append(float(j.find('div', class_ = 'hGSR34').text.strip()))\n",
    "    #ratings1\n",
    "    \n",
    "    data_frame1 = pd.DataFrame({'Review Header':review_head1, 'Reviews':full_reviews1, 'Ratings':ratings1})\n",
    "    return data_frame1\n",
    "    \n",
    "url1 = 'https://www.flipkart.com/redmi-note-5-pro-gold-64-gb/product-reviews/itmf2fc3txmqwdkb?pid=MOBF28FTHZYYGXFY&lid=LSTMOBF28FTHZYYGXFYWCJUUS&marketplace=FLIPKART&page={}'\n",
    "review_df1 = {}\n",
    "for i in range(1,1000):\n",
    "    pages1 = url1.format(i)\n",
    "    review_df1[i] = get_data1(pages1)"
   ]
  },
  {
   "cell_type": "code",
   "execution_count": 5,
   "metadata": {},
   "outputs": [
    {
     "data": {
      "text/html": [
       "<div>\n",
       "<style scoped>\n",
       "    .dataframe tbody tr th:only-of-type {\n",
       "        vertical-align: middle;\n",
       "    }\n",
       "\n",
       "    .dataframe tbody tr th {\n",
       "        vertical-align: top;\n",
       "    }\n",
       "\n",
       "    .dataframe thead th {\n",
       "        text-align: right;\n",
       "    }\n",
       "</style>\n",
       "<table border=\"1\" class=\"dataframe\">\n",
       "  <thead>\n",
       "    <tr style=\"text-align: right;\">\n",
       "      <th></th>\n",
       "      <th>Review Header</th>\n",
       "      <th>Reviews</th>\n",
       "      <th>Ratings</th>\n",
       "    </tr>\n",
       "  </thead>\n",
       "  <tbody>\n",
       "    <tr>\n",
       "      <th>0</th>\n",
       "      <td>Must buy!</td>\n",
       "      <td>It's is very good phone. I recommend to buy this phone if ur budget is 10k to 15k. And the camera is tooo fabulous. And screen is also big.  I love this phone.  Thank u MI to make this phone in this budget. And also we get a great processor. 🌟💸READ MORE</td>\n",
       "      <td>5.0</td>\n",
       "    </tr>\n",
       "    <tr>\n",
       "      <th>1</th>\n",
       "      <td>Fabulous!</td>\n",
       "      <td>niceREAD MORE</td>\n",
       "      <td>5.0</td>\n",
       "    </tr>\n",
       "    <tr>\n",
       "      <th>2</th>\n",
       "      <td>Worth every penny</td>\n",
       "      <td>great picture effactREAD MORE</td>\n",
       "      <td>5.0</td>\n",
       "    </tr>\n",
       "    <tr>\n",
       "      <th>3</th>\n",
       "      <td>Terrific purchase</td>\n",
       "      <td>no words just Too GoodREAD MORE</td>\n",
       "      <td>5.0</td>\n",
       "    </tr>\n",
       "    <tr>\n",
       "      <th>4</th>\n",
       "      <td>Terrific purchase</td>\n",
       "      <td>best fone ever i usethis is 2nd mi device for me..first note 4 and second this. Note 4 experience was very bad cause its mic problem but this device is excellent. some views over using 1and half month.pros1. Selfie camera is awesome2 Rear cam is also good 3battery backup is so good4 display quality, touch response amazing5fingerprint sensor very quick6 looks awesome7potrait mode unbelievablecons1.secondary camera struggles in low light 2 face unlock little slow3 i faced call drop problem but my friend who have same device don't. I think this problem created after 9.5 upgradeOverall i m much satisfied with this phonethanks xiaomi for sustain my belief.and 5* for flipcart service, so fastREAD MORE</td>\n",
       "      <td>5.0</td>\n",
       "    </tr>\n",
       "  </tbody>\n",
       "</table>\n",
       "</div>"
      ],
      "text/plain": [
       "       Review Header  \\\n",
       "0  Must buy!           \n",
       "1  Fabulous!           \n",
       "2  Worth every penny   \n",
       "3  Terrific purchase   \n",
       "4  Terrific purchase   \n",
       "\n",
       "                                                                                                                                                                                                                                                                                                                                                                                                                                                                                                                                                                                                                                                                                                                            Reviews  \\\n",
       "0  It's is very good phone. I recommend to buy this phone if ur budget is 10k to 15k. And the camera is tooo fabulous. And screen is also big.  I love this phone.  Thank u MI to make this phone in this budget. And also we get a great processor. 🌟💸READ MORE                                                                                                                                                                                                                                                                                                                                                                                                                                                                      \n",
       "1  niceREAD MORE                                                                                                                                                                                                                                                                                                                                                                                                                                                                                                                                                                                                                                                                                                                      \n",
       "2  great picture effactREAD MORE                                                                                                                                                                                                                                                                                                                                                                                                                                                                                                                                                                                                                                                                                                      \n",
       "3  no words just Too GoodREAD MORE                                                                                                                                                                                                                                                                                                                                                                                                                                                                                                                                                                                                                                                                                                    \n",
       "4  best fone ever i usethis is 2nd mi device for me..first note 4 and second this. Note 4 experience was very bad cause its mic problem but this device is excellent. some views over using 1and half month.pros1. Selfie camera is awesome2 Rear cam is also good 3battery backup is so good4 display quality, touch response amazing5fingerprint sensor very quick6 looks awesome7potrait mode unbelievablecons1.secondary camera struggles in low light 2 face unlock little slow3 i faced call drop problem but my friend who have same device don't. I think this problem created after 9.5 upgradeOverall i m much satisfied with this phonethanks xiaomi for sustain my belief.and 5* for flipcart service, so fastREAD MORE   \n",
       "\n",
       "   Ratings  \n",
       "0  5.0      \n",
       "1  5.0      \n",
       "2  5.0      \n",
       "3  5.0      \n",
       "4  5.0      "
      ]
     },
     "execution_count": 5,
     "metadata": {},
     "output_type": "execute_result"
    }
   ],
   "source": [
    "note_5_pro_4gb = pd.concat([review_df1[i] for i in review_df1], ignore_index=True)\n",
    "note_5_pro_4gb.head()"
   ]
  },
  {
   "cell_type": "code",
   "execution_count": 6,
   "metadata": {},
   "outputs": [
    {
     "data": {
      "text/html": [
       "<div>\n",
       "<style scoped>\n",
       "    .dataframe tbody tr th:only-of-type {\n",
       "        vertical-align: middle;\n",
       "    }\n",
       "\n",
       "    .dataframe tbody tr th {\n",
       "        vertical-align: top;\n",
       "    }\n",
       "\n",
       "    .dataframe thead th {\n",
       "        text-align: right;\n",
       "    }\n",
       "</style>\n",
       "<table border=\"1\" class=\"dataframe\">\n",
       "  <thead>\n",
       "    <tr style=\"text-align: right;\">\n",
       "      <th></th>\n",
       "      <th>Review Header</th>\n",
       "      <th>Reviews</th>\n",
       "      <th>Ratings</th>\n",
       "    </tr>\n",
       "  </thead>\n",
       "  <tbody>\n",
       "    <tr>\n",
       "      <th>0</th>\n",
       "      <td>Must buy!</td>\n",
       "      <td>It's is very good phone. I recommend to buy this phone if ur budget is 10k to 15k. And the camera is tooo fabulous. And screen is also big.  I love this phone.  Thank u MI to make this phone in this budget. And also we get a great processor. 🌟💸</td>\n",
       "      <td>5.0</td>\n",
       "    </tr>\n",
       "    <tr>\n",
       "      <th>1</th>\n",
       "      <td>Fabulous!</td>\n",
       "      <td>nice</td>\n",
       "      <td>5.0</td>\n",
       "    </tr>\n",
       "    <tr>\n",
       "      <th>2</th>\n",
       "      <td>Worth every penny</td>\n",
       "      <td>great picture effact</td>\n",
       "      <td>5.0</td>\n",
       "    </tr>\n",
       "    <tr>\n",
       "      <th>3</th>\n",
       "      <td>Terrific purchase</td>\n",
       "      <td>no words just Too Good</td>\n",
       "      <td>5.0</td>\n",
       "    </tr>\n",
       "    <tr>\n",
       "      <th>4</th>\n",
       "      <td>Terrific purchase</td>\n",
       "      <td>best fone ever i usethis is 2nd mi device for me..first note 4 and second this. Note 4 experience was very bad cause its mic problem but this device is excellent. some views over using 1and half month.pros1. Selfie camera is awesome2 Rear cam is also good 3battery backup is so good4 display quality, touch response amazing5fingerprint sensor very quick6 looks awesome7potrait mode unbelievablecons1.secondary camera struggles in low light 2 face unlock little slow3 i faced call drop problem but my friend who have same device don't. I think this problem created after 9.5 upgradeOverall i m much satisfied with this phonethanks xiaomi for sustain my belief.and 5* for flipcart service, so fast</td>\n",
       "      <td>5.0</td>\n",
       "    </tr>\n",
       "  </tbody>\n",
       "</table>\n",
       "</div>"
      ],
      "text/plain": [
       "       Review Header  \\\n",
       "0  Must buy!           \n",
       "1  Fabulous!           \n",
       "2  Worth every penny   \n",
       "3  Terrific purchase   \n",
       "4  Terrific purchase   \n",
       "\n",
       "                                                                                                                                                                                                                                                                                                                                                                                                                                                                                                                                                                                                                                                                                                                   Reviews  \\\n",
       "0  It's is very good phone. I recommend to buy this phone if ur budget is 10k to 15k. And the camera is tooo fabulous. And screen is also big.  I love this phone.  Thank u MI to make this phone in this budget. And also we get a great processor. 🌟💸                                                                                                                                                                                                                                                                                                                                                                                                                                                                      \n",
       "1  nice                                                                                                                                                                                                                                                                                                                                                                                                                                                                                                                                                                                                                                                                                                                      \n",
       "2  great picture effact                                                                                                                                                                                                                                                                                                                                                                                                                                                                                                                                                                                                                                                                                                      \n",
       "3  no words just Too Good                                                                                                                                                                                                                                                                                                                                                                                                                                                                                                                                                                                                                                                                                                    \n",
       "4  best fone ever i usethis is 2nd mi device for me..first note 4 and second this. Note 4 experience was very bad cause its mic problem but this device is excellent. some views over using 1and half month.pros1. Selfie camera is awesome2 Rear cam is also good 3battery backup is so good4 display quality, touch response amazing5fingerprint sensor very quick6 looks awesome7potrait mode unbelievablecons1.secondary camera struggles in low light 2 face unlock little slow3 i faced call drop problem but my friend who have same device don't. I think this problem created after 9.5 upgradeOverall i m much satisfied with this phonethanks xiaomi for sustain my belief.and 5* for flipcart service, so fast   \n",
       "\n",
       "   Ratings  \n",
       "0  5.0      \n",
       "1  5.0      \n",
       "2  5.0      \n",
       "3  5.0      \n",
       "4  5.0      "
      ]
     },
     "execution_count": 6,
     "metadata": {},
     "output_type": "execute_result"
    }
   ],
   "source": [
    "note_5_pro_4gb['Reviews'] = note_5_pro_4gb['Reviews'].str.replace('READ MORE', '')\n",
    "note_5_pro_4gb.head()"
   ]
  },
  {
   "cell_type": "code",
   "execution_count": 7,
   "metadata": {},
   "outputs": [
    {
     "data": {
      "text/plain": [
       "(9930, 3)"
      ]
     },
     "execution_count": 7,
     "metadata": {},
     "output_type": "execute_result"
    }
   ],
   "source": [
    "note_5_pro_4gb.shape"
   ]
  },
  {
   "cell_type": "markdown",
   "metadata": {},
   "source": [
    "## Redmi Note 5 Pro with RAM 6GB"
   ]
  },
  {
   "cell_type": "code",
   "execution_count": 11,
   "metadata": {},
   "outputs": [],
   "source": [
    "def get_data2(url2):\n",
    "    browser.get(url2)\n",
    "    for i in browser.find_elements_by_class_name('_1EPkIx'):\n",
    "        i.click()\n",
    "    html2 = browser.page_source\n",
    "    soup2 = BeautifulSoup(html2, 'html.parser')\n",
    "    div2 = soup2.find_all('div', class_ = '_1PBCrt')\n",
    "    \n",
    "    review_head2 = []\n",
    "    for i in div2:\n",
    "        review_head2.append(i.find('p', class_ = '_2xg6Ul').text.strip())\n",
    "    #review_head2\n",
    "    \n",
    "    full_reviews2 = []\n",
    "    for i in div2:\n",
    "        full_reviews2.append(i.find('div', class_='').text.strip())\n",
    "    #reviews2\n",
    "    \n",
    "    ratings2 = []\n",
    "    for j in div2:\n",
    "        ratings2.append(float(j.find('div', class_ = 'hGSR34').text.strip()))\n",
    "    #ratings2\n",
    "    \n",
    "    data_frame2 = pd.DataFrame({'Review Header':review_head2, 'Reviews':full_reviews2, 'Ratings':ratings2})\n",
    "    return data_frame2\n",
    "    \n",
    "url2 = 'https://www.flipkart.com/redmi-note-5-pro-black-64-gb/product-reviews/itmf2fc3qjzftfch?pid=MOBF28FTKDWY5EHE&lid=LSTMOBF28FTKDWY5EHEWLTAYU&marketplace=FLIPKART&page={}'\n",
    "review_df2 = {}\n",
    "for i in range(1,1000):\n",
    "    pages2 = url2.format(i)\n",
    "    review_df2[i] = get_data2(pages2)"
   ]
  },
  {
   "cell_type": "code",
   "execution_count": 12,
   "metadata": {},
   "outputs": [
    {
     "data": {
      "text/html": [
       "<div>\n",
       "<style scoped>\n",
       "    .dataframe tbody tr th:only-of-type {\n",
       "        vertical-align: middle;\n",
       "    }\n",
       "\n",
       "    .dataframe tbody tr th {\n",
       "        vertical-align: top;\n",
       "    }\n",
       "\n",
       "    .dataframe thead th {\n",
       "        text-align: right;\n",
       "    }\n",
       "</style>\n",
       "<table border=\"1\" class=\"dataframe\">\n",
       "  <thead>\n",
       "    <tr style=\"text-align: right;\">\n",
       "      <th></th>\n",
       "      <th>Review Header</th>\n",
       "      <th>Reviews</th>\n",
       "      <th>Ratings</th>\n",
       "    </tr>\n",
       "  </thead>\n",
       "  <tbody>\n",
       "    <tr>\n",
       "      <th>0</th>\n",
       "      <td>Great product</td>\n",
       "      <td>super mobileREAD MORE</td>\n",
       "      <td>5.0</td>\n",
       "    </tr>\n",
       "    <tr>\n",
       "      <th>1</th>\n",
       "      <td>Super!</td>\n",
       "      <td>awesome cameraREAD MORE</td>\n",
       "      <td>5.0</td>\n",
       "    </tr>\n",
       "    <tr>\n",
       "      <th>2</th>\n",
       "      <td>Super!</td>\n",
       "      <td>6gb ram is awesomeREAD MORE</td>\n",
       "      <td>5.0</td>\n",
       "    </tr>\n",
       "    <tr>\n",
       "      <th>3</th>\n",
       "      <td>Very Good</td>\n",
       "      <td>goodREAD MORE</td>\n",
       "      <td>4.0</td>\n",
       "    </tr>\n",
       "    <tr>\n",
       "      <th>4</th>\n",
       "      <td>Wonderful</td>\n",
       "      <td>camera and perfomance superb ✌️ 4month used😍READ MORE</td>\n",
       "      <td>5.0</td>\n",
       "    </tr>\n",
       "  </tbody>\n",
       "</table>\n",
       "</div>"
      ],
      "text/plain": [
       "   Review Header                                                Reviews  \\\n",
       "0  Great product  super mobileREAD MORE                                   \n",
       "1  Super!         awesome cameraREAD MORE                                 \n",
       "2  Super!         6gb ram is awesomeREAD MORE                             \n",
       "3  Very Good      goodREAD MORE                                           \n",
       "4  Wonderful      camera and perfomance superb ✌️ 4month used😍READ MORE   \n",
       "\n",
       "   Ratings  \n",
       "0  5.0      \n",
       "1  5.0      \n",
       "2  5.0      \n",
       "3  4.0      \n",
       "4  5.0      "
      ]
     },
     "execution_count": 12,
     "metadata": {},
     "output_type": "execute_result"
    }
   ],
   "source": [
    "note_5_pro_6gb = pd.concat([review_df2[i] for i in review_df2], ignore_index=True)\n",
    "note_5_pro_6gb.head()"
   ]
  },
  {
   "cell_type": "code",
   "execution_count": 13,
   "metadata": {},
   "outputs": [
    {
     "data": {
      "text/html": [
       "<div>\n",
       "<style scoped>\n",
       "    .dataframe tbody tr th:only-of-type {\n",
       "        vertical-align: middle;\n",
       "    }\n",
       "\n",
       "    .dataframe tbody tr th {\n",
       "        vertical-align: top;\n",
       "    }\n",
       "\n",
       "    .dataframe thead th {\n",
       "        text-align: right;\n",
       "    }\n",
       "</style>\n",
       "<table border=\"1\" class=\"dataframe\">\n",
       "  <thead>\n",
       "    <tr style=\"text-align: right;\">\n",
       "      <th></th>\n",
       "      <th>Review Header</th>\n",
       "      <th>Reviews</th>\n",
       "      <th>Ratings</th>\n",
       "    </tr>\n",
       "  </thead>\n",
       "  <tbody>\n",
       "    <tr>\n",
       "      <th>0</th>\n",
       "      <td>Great product</td>\n",
       "      <td>super mobile</td>\n",
       "      <td>5.0</td>\n",
       "    </tr>\n",
       "    <tr>\n",
       "      <th>1</th>\n",
       "      <td>Super!</td>\n",
       "      <td>awesome camera</td>\n",
       "      <td>5.0</td>\n",
       "    </tr>\n",
       "    <tr>\n",
       "      <th>2</th>\n",
       "      <td>Super!</td>\n",
       "      <td>6gb ram is awesome</td>\n",
       "      <td>5.0</td>\n",
       "    </tr>\n",
       "    <tr>\n",
       "      <th>3</th>\n",
       "      <td>Very Good</td>\n",
       "      <td>good</td>\n",
       "      <td>4.0</td>\n",
       "    </tr>\n",
       "    <tr>\n",
       "      <th>4</th>\n",
       "      <td>Wonderful</td>\n",
       "      <td>camera and perfomance superb ✌️ 4month used😍</td>\n",
       "      <td>5.0</td>\n",
       "    </tr>\n",
       "  </tbody>\n",
       "</table>\n",
       "</div>"
      ],
      "text/plain": [
       "   Review Header                                       Reviews  Ratings\n",
       "0  Great product  super mobile                                  5.0    \n",
       "1  Super!         awesome camera                                5.0    \n",
       "2  Super!         6gb ram is awesome                            5.0    \n",
       "3  Very Good      good                                          4.0    \n",
       "4  Wonderful      camera and perfomance superb ✌️ 4month used😍  5.0    "
      ]
     },
     "execution_count": 13,
     "metadata": {},
     "output_type": "execute_result"
    }
   ],
   "source": [
    "note_5_pro_6gb['Reviews'] = note_5_pro_6gb['Reviews'].str.replace('READ MORE', '')\n",
    "note_5_pro_6gb.head()"
   ]
  },
  {
   "cell_type": "code",
   "execution_count": 14,
   "metadata": {},
   "outputs": [
    {
     "data": {
      "text/plain": [
       "(9940, 3)"
      ]
     },
     "execution_count": 14,
     "metadata": {},
     "output_type": "execute_result"
    }
   ],
   "source": [
    "note_5_pro_6gb.shape"
   ]
  },
  {
   "cell_type": "markdown",
   "metadata": {},
   "source": [
    "## Concatenating the reviews of Redmi Note 5 Pro"
   ]
  },
  {
   "cell_type": "code",
   "execution_count": 15,
   "metadata": {},
   "outputs": [
    {
     "data": {
      "text/html": [
       "<div>\n",
       "<style scoped>\n",
       "    .dataframe tbody tr th:only-of-type {\n",
       "        vertical-align: middle;\n",
       "    }\n",
       "\n",
       "    .dataframe tbody tr th {\n",
       "        vertical-align: top;\n",
       "    }\n",
       "\n",
       "    .dataframe thead th {\n",
       "        text-align: right;\n",
       "    }\n",
       "</style>\n",
       "<table border=\"1\" class=\"dataframe\">\n",
       "  <thead>\n",
       "    <tr style=\"text-align: right;\">\n",
       "      <th></th>\n",
       "      <th>Review Header</th>\n",
       "      <th>Reviews</th>\n",
       "      <th>Ratings</th>\n",
       "    </tr>\n",
       "  </thead>\n",
       "  <tbody>\n",
       "    <tr>\n",
       "      <th>0</th>\n",
       "      <td>Must buy!</td>\n",
       "      <td>It's is very good phone. I recommend to buy this phone if ur budget is 10k to 15k. And the camera is tooo fabulous. And screen is also big.  I love this phone.  Thank u MI to make this phone in this budget. And also we get a great processor. 🌟💸</td>\n",
       "      <td>5.0</td>\n",
       "    </tr>\n",
       "    <tr>\n",
       "      <th>1</th>\n",
       "      <td>Fabulous!</td>\n",
       "      <td>nice</td>\n",
       "      <td>5.0</td>\n",
       "    </tr>\n",
       "    <tr>\n",
       "      <th>2</th>\n",
       "      <td>Worth every penny</td>\n",
       "      <td>great picture effact</td>\n",
       "      <td>5.0</td>\n",
       "    </tr>\n",
       "    <tr>\n",
       "      <th>3</th>\n",
       "      <td>Terrific purchase</td>\n",
       "      <td>no words just Too Good</td>\n",
       "      <td>5.0</td>\n",
       "    </tr>\n",
       "    <tr>\n",
       "      <th>4</th>\n",
       "      <td>Terrific purchase</td>\n",
       "      <td>best fone ever i usethis is 2nd mi device for me..first note 4 and second this. Note 4 experience was very bad cause its mic problem but this device is excellent. some views over using 1and half month.pros1. Selfie camera is awesome2 Rear cam is also good 3battery backup is so good4 display quality, touch response amazing5fingerprint sensor very quick6 looks awesome7potrait mode unbelievablecons1.secondary camera struggles in low light 2 face unlock little slow3 i faced call drop problem but my friend who have same device don't. I think this problem created after 9.5 upgradeOverall i m much satisfied with this phonethanks xiaomi for sustain my belief.and 5* for flipcart service, so fast</td>\n",
       "      <td>5.0</td>\n",
       "    </tr>\n",
       "  </tbody>\n",
       "</table>\n",
       "</div>"
      ],
      "text/plain": [
       "       Review Header  \\\n",
       "0  Must buy!           \n",
       "1  Fabulous!           \n",
       "2  Worth every penny   \n",
       "3  Terrific purchase   \n",
       "4  Terrific purchase   \n",
       "\n",
       "                                                                                                                                                                                                                                                                                                                                                                                                                                                                                                                                                                                                                                                                                                                   Reviews  \\\n",
       "0  It's is very good phone. I recommend to buy this phone if ur budget is 10k to 15k. And the camera is tooo fabulous. And screen is also big.  I love this phone.  Thank u MI to make this phone in this budget. And also we get a great processor. 🌟💸                                                                                                                                                                                                                                                                                                                                                                                                                                                                      \n",
       "1  nice                                                                                                                                                                                                                                                                                                                                                                                                                                                                                                                                                                                                                                                                                                                      \n",
       "2  great picture effact                                                                                                                                                                                                                                                                                                                                                                                                                                                                                                                                                                                                                                                                                                      \n",
       "3  no words just Too Good                                                                                                                                                                                                                                                                                                                                                                                                                                                                                                                                                                                                                                                                                                    \n",
       "4  best fone ever i usethis is 2nd mi device for me..first note 4 and second this. Note 4 experience was very bad cause its mic problem but this device is excellent. some views over using 1and half month.pros1. Selfie camera is awesome2 Rear cam is also good 3battery backup is so good4 display quality, touch response amazing5fingerprint sensor very quick6 looks awesome7potrait mode unbelievablecons1.secondary camera struggles in low light 2 face unlock little slow3 i faced call drop problem but my friend who have same device don't. I think this problem created after 9.5 upgradeOverall i m much satisfied with this phonethanks xiaomi for sustain my belief.and 5* for flipcart service, so fast   \n",
       "\n",
       "   Ratings  \n",
       "0  5.0      \n",
       "1  5.0      \n",
       "2  5.0      \n",
       "3  5.0      \n",
       "4  5.0      "
      ]
     },
     "execution_count": 15,
     "metadata": {},
     "output_type": "execute_result"
    }
   ],
   "source": [
    "redmi_note_5_pro = pd.concat([note_5_pro_4gb, note_5_pro_6gb], ignore_index = True)\n",
    "redmi_note_5_pro.head()"
   ]
  },
  {
   "cell_type": "code",
   "execution_count": 16,
   "metadata": {},
   "outputs": [
    {
     "data": {
      "text/html": [
       "<div>\n",
       "<style scoped>\n",
       "    .dataframe tbody tr th:only-of-type {\n",
       "        vertical-align: middle;\n",
       "    }\n",
       "\n",
       "    .dataframe tbody tr th {\n",
       "        vertical-align: top;\n",
       "    }\n",
       "\n",
       "    .dataframe thead th {\n",
       "        text-align: right;\n",
       "    }\n",
       "</style>\n",
       "<table border=\"1\" class=\"dataframe\">\n",
       "  <thead>\n",
       "    <tr style=\"text-align: right;\">\n",
       "      <th></th>\n",
       "      <th>Review Header</th>\n",
       "      <th>Reviews</th>\n",
       "      <th>Ratings</th>\n",
       "    </tr>\n",
       "  </thead>\n",
       "  <tbody>\n",
       "    <tr>\n",
       "      <th>19865</th>\n",
       "      <td>Best in the market!</td>\n",
       "      <td>nice</td>\n",
       "      <td>5.0</td>\n",
       "    </tr>\n",
       "    <tr>\n",
       "      <th>19866</th>\n",
       "      <td>Must buy!</td>\n",
       "      <td>its very good mobile</td>\n",
       "      <td>5.0</td>\n",
       "    </tr>\n",
       "    <tr>\n",
       "      <th>19867</th>\n",
       "      <td>Super!</td>\n",
       "      <td>nice delivered</td>\n",
       "      <td>5.0</td>\n",
       "    </tr>\n",
       "    <tr>\n",
       "      <th>19868</th>\n",
       "      <td>Just wow!</td>\n",
       "      <td>nice delivered</td>\n",
       "      <td>5.0</td>\n",
       "    </tr>\n",
       "    <tr>\n",
       "      <th>19869</th>\n",
       "      <td>Fabulous!</td>\n",
       "      <td>very nice mobile in this range.... but weight is too much.. compare To another mobile..... weight is only one less point... otherwise phone is very very nice...</td>\n",
       "      <td>5.0</td>\n",
       "    </tr>\n",
       "  </tbody>\n",
       "</table>\n",
       "</div>"
      ],
      "text/plain": [
       "             Review Header  \\\n",
       "19865  Best in the market!   \n",
       "19866  Must buy!             \n",
       "19867  Super!                \n",
       "19868  Just wow!             \n",
       "19869  Fabulous!             \n",
       "\n",
       "                                                                                                                                                                Reviews  \\\n",
       "19865  nice                                                                                                                                                               \n",
       "19866  its very good mobile                                                                                                                                               \n",
       "19867  nice delivered                                                                                                                                                     \n",
       "19868  nice delivered                                                                                                                                                     \n",
       "19869  very nice mobile in this range.... but weight is too much.. compare To another mobile..... weight is only one less point... otherwise phone is very very nice...   \n",
       "\n",
       "       Ratings  \n",
       "19865  5.0      \n",
       "19866  5.0      \n",
       "19867  5.0      \n",
       "19868  5.0      \n",
       "19869  5.0      "
      ]
     },
     "execution_count": 16,
     "metadata": {},
     "output_type": "execute_result"
    }
   ],
   "source": [
    "redmi_note_5_pro.tail()"
   ]
  },
  {
   "cell_type": "code",
   "execution_count": 17,
   "metadata": {},
   "outputs": [
    {
     "data": {
      "text/plain": [
       "(19870, 3)"
      ]
     },
     "execution_count": 17,
     "metadata": {},
     "output_type": "execute_result"
    }
   ],
   "source": [
    "redmi_note_5_pro.shape"
   ]
  },
  {
   "cell_type": "markdown",
   "metadata": {},
   "source": [
    "## Exporting the data to csv file"
   ]
  },
  {
   "cell_type": "code",
   "execution_count": 18,
   "metadata": {},
   "outputs": [],
   "source": [
    "redmi_note_5_pro.to_csv('C:/Users/Subhadri/Desktop/Data Science/Term 2/Project/Redmi_Note_5_Pro.csv')"
   ]
  }
 ],
 "metadata": {
  "kernelspec": {
   "display_name": "Python 3",
   "language": "python",
   "name": "python3"
  },
  "language_info": {
   "codemirror_mode": {
    "name": "ipython",
    "version": 3
   },
   "file_extension": ".py",
   "mimetype": "text/x-python",
   "name": "python",
   "nbconvert_exporter": "python",
   "pygments_lexer": "ipython3",
   "version": "3.7.3"
  }
 },
 "nbformat": 4,
 "nbformat_minor": 4
}
